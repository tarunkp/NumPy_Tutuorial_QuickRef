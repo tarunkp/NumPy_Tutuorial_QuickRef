{
 "cells": [
  {
   "cell_type": "markdown",
   "metadata": {},
   "source": [
    "# NumPy\n",
    "\n",
    "NumPy is a library for the Python adding support for large, multi-dimensional arrays, along with a large collection of high-level mathematical functions to operate on these arrays. \n",
    "\n",
    "\n",
    "NumPy array can represent any multidimentional arrays but all elements must be of same type. If not all inputs are of same type then, all elements are promoted to type which can represent all elements if possible."
   ]
  },
  {
   "cell_type": "code",
   "execution_count": 1,
   "metadata": {},
   "outputs": [],
   "source": [
    "import numpy as np\n"
   ]
  },
  {
   "cell_type": "markdown",
   "metadata": {},
   "source": [
    "### Basic information about numpy array"
   ]
  },
  {
   "cell_type": "code",
   "execution_count": 2,
   "metadata": {},
   "outputs": [
    {
     "name": "stdout",
     "output_type": "stream",
     "text": [
      "a =\n",
      " [[[ 0  1  2  3]\n",
      "  [ 4  5  6  7]\n",
      "  [ 8  9 10 11]]\n",
      "\n",
      " [[12 13 14 15]\n",
      "  [16 17 18 19]\n",
      "  [20 21 22 23]]] \n",
      "\n",
      "Number of elements in array \ta.size = 24\n",
      "Number of Dimentions \t\ta.ndim = 3\n",
      "Number of elements in each dimention \ta.shape = (2, 3, 4)\n",
      "Datatype of elements \t\ta.dtype.name = int32\n",
      "Datatype of elements \t\ta.dtype = int32\n",
      "size of each element in Bytes \ta.itemsize = 4\n",
      "data type of a \t\t\ttype(a) = <class 'numpy.ndarray'>\n"
     ]
    }
   ],
   "source": [
    "a = np.arange(24).reshape(2,3,4)\n",
    "print(\"a =\\n\", a, \"\\n\")\n",
    "print(\"Number of elements in array \\ta.size =\", a.size)\n",
    "print(\"Number of Dimentions \\t\\ta.ndim =\", a.ndim)\n",
    "print(\"Number of elements in each dimention \\ta.shape =\", a.shape)\n",
    "print(\"Datatype of elements \\t\\ta.dtype.name =\", a.dtype.name)\n",
    "print(\"Datatype of elements \\t\\ta.dtype =\", a.dtype)\n",
    "print(\"size of each element in Bytes \\ta.itemsize =\", a.itemsize)\n",
    "print(\"data type of a \\t\\t\\ttype(a) =\", type(a))\n"
   ]
  },
  {
   "cell_type": "markdown",
   "metadata": {},
   "source": [
    "### Creating numpy array"
   ]
  },
  {
   "cell_type": "code",
   "execution_count": 3,
   "metadata": {},
   "outputs": [
    {
     "name": "stdout",
     "output_type": "stream",
     "text": [
      "b1 = [1 2 3 4]\n",
      "b2 = [5 6 7 8]\n",
      "b3 =\n",
      " [[1 2 3 4]\n",
      " [5 6 7 8]]\n",
      "b4 =\n",
      " [[1 2 3 4]\n",
      " [5 6 7 8]]\n",
      "l5 = [1.1, 2, 3, 4]\n",
      "b5 = [1.1 2.  3.  4. ]\n"
     ]
    }
   ],
   "source": [
    "# Creating one dimentional array\n",
    "b1 = np.array([1, 2, 3, 4])    # list\n",
    "b2 = np.array((5, 6, 7, 8))    # tuple\n",
    "print(\"b1 =\", b1)\n",
    "print(\"b2 =\", b2)\n",
    "\n",
    "# Creating two dimentional array with python list\n",
    "b3 = np.array([[1, 2, 3, 4], (5, 6, 7, 8)])    # one list and one tuple\n",
    "print(\"b3 =\\n\", b3)\n",
    "\n",
    "# Creating numpy array with numpy arrays\n",
    "b4 = np.array([b1, b2])\n",
    "print(\"b4 =\\n\", b4)\n",
    "\n",
    "l5 = [1.1, 2, 3, 4]\n",
    "b5 = np.array(l5)    # from list\n",
    "print(\"l5 =\", l5)\n",
    "print(\"b5 =\", b5)\n"
   ]
  },
  {
   "cell_type": "code",
   "execution_count": 4,
   "metadata": {},
   "outputs": [
    {
     "name": "stdout",
     "output_type": "stream",
     "text": [
      "[ True  True False False]\n",
      "[False  True  True False]\n",
      "[False  True False  True]\n",
      "[False False False  True]\n"
     ]
    }
   ],
   "source": [
    "my_house = np.array([18.0, 20.0, 10.75, 9.50])\n",
    "your_house = np.array([14.0, 24.0, 14.25, 9.0])\n",
    "\n",
    "# my_house greater than or equal to 18\n",
    "print(my_house >= 18)\n",
    "\n",
    "# my_house less than your_house\n",
    "print(my_house < your_house)\n",
    "\n",
    "# my_house greater than 18.5 or smaller than 10\n",
    "print(np.logical_or(my_house>18.5, my_house<10))\n",
    "\n",
    "# Both my_house and your_house smaller than 11\n",
    "print(np.logical_and(my_house<11, your_house<11))\n"
   ]
  },
  {
   "cell_type": "code",
   "execution_count": 5,
   "metadata": {},
   "outputs": [
    {
     "name": "stdout",
     "output_type": "stream",
     "text": [
      "both_house =\n",
      " [[18.   20.   10.75  9.5 ]\n",
      " [14.   24.   14.25  9.  ]]\n",
      "18.0\n",
      "20.0\n",
      "10.75\n",
      "9.5\n",
      "14.0\n",
      "24.0\n",
      "14.25\n",
      "9.0\n"
     ]
    }
   ],
   "source": [
    "both_house = np.array([my_house, your_house])\n",
    "print(\"both_house =\\n\", both_house)\n",
    "for ar in np.nditer(both_house):\n",
    "    print(ar)"
   ]
  },
  {
   "cell_type": "code",
   "execution_count": null,
   "metadata": {},
   "outputs": [],
   "source": []
  }
 ],
 "metadata": {
  "kernelspec": {
   "display_name": "Python 3",
   "language": "python",
   "name": "python3"
  },
  "language_info": {
   "codemirror_mode": {
    "name": "ipython",
    "version": 3
   },
   "file_extension": ".py",
   "mimetype": "text/x-python",
   "name": "python",
   "nbconvert_exporter": "python",
   "pygments_lexer": "ipython3",
   "version": "3.6.7"
  }
 },
 "nbformat": 4,
 "nbformat_minor": 2
}
