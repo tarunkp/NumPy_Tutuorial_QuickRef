{
 "cells": [
  {
   "cell_type": "markdown",
   "metadata": {},
   "source": [
    "# NumPy Functions"
   ]
  },
  {
   "cell_type": "code",
   "execution_count": 1,
   "metadata": {},
   "outputs": [],
   "source": [
    "import numpy as np\n"
   ]
  },
  {
   "cell_type": "markdown",
   "metadata": {},
   "source": [
    "### np.random.random(): Create array with random numbers"
   ]
  },
  {
   "cell_type": "code",
   "execution_count": 2,
   "metadata": {},
   "outputs": [
    {
     "data": {
      "text/plain": [
       "array([[0.52487956, 0.8357394 ],\n",
       "       [0.22638036, 0.11124882]])"
      ]
     },
     "execution_count": 2,
     "metadata": {},
     "output_type": "execute_result"
    }
   ],
   "source": [
    "np.random.random((2,2))"
   ]
  },
  {
   "cell_type": "markdown",
   "metadata": {},
   "source": [
    "### np.zeros / np.ones / np.full: Create array filled with zeros/ones/fill_value"
   ]
  },
  {
   "cell_type": "code",
   "execution_count": 3,
   "metadata": {},
   "outputs": [
    {
     "name": "stdout",
     "output_type": "stream",
     "text": [
      "[0. 0. 0.]\n",
      "[1. 1. 1.]\n",
      "[5 5 5]\n",
      "\n",
      "[[0 0 0 0 0]\n",
      " [0 0 0 0 0]]\n"
     ]
    }
   ],
   "source": [
    "z = np.zeros([3])  # Default dtype float64\n",
    "print(z)\n",
    "z = np.ones([3])\n",
    "print(z)\n",
    "z = np.full([3], 5)\n",
    "print(z, end='\\n\\n')\n",
    "\n",
    "z = np.zeros([2, 5], dtype=np.int8)\n",
    "print(z)"
   ]
  },
  {
   "cell_type": "markdown",
   "metadata": {},
   "source": [
    "### np.zeros_like / np.ones_like / np.full_like: Create array filled with zeros/ones/fill_value with shape of argument array"
   ]
  },
  {
   "cell_type": "code",
   "execution_count": 4,
   "metadata": {},
   "outputs": [
    {
     "name": "stdout",
     "output_type": "stream",
     "text": [
      "[[0 0 0 0 0]\n",
      " [0 0 0 0 0]]\n",
      "[[1 1 1 1 1]\n",
      " [1 1 1 1 1]]\n",
      "[[5 5 5 5 5]\n",
      " [5 5 5 5 5]]\n",
      "\n"
     ]
    }
   ],
   "source": [
    "z = np.zeros_like(z)  # Default dtype float64\n",
    "print(z)\n",
    "z = np.ones_like(z)\n",
    "print(z)\n",
    "z = np.full_like(z, 5)\n",
    "print(z, end='\\n\\n')\n"
   ]
  },
  {
   "cell_type": "markdown",
   "metadata": {},
   "source": [
    "### np.identity / np.eye: Create identity array.\n"
   ]
  },
  {
   "cell_type": "code",
   "execution_count": 5,
   "metadata": {},
   "outputs": [
    {
     "name": "stdout",
     "output_type": "stream",
     "text": [
      "[[1. 0. 0.]\n",
      " [0. 1. 0.]\n",
      " [0. 0. 1.]]\n"
     ]
    },
    {
     "data": {
      "text/plain": [
       "array([[1., 0., 0.],\n",
       "       [0., 1., 0.]])"
      ]
     },
     "execution_count": 5,
     "metadata": {},
     "output_type": "execute_result"
    }
   ],
   "source": [
    "print(np.identity(3))\n",
    "np.eye(2, 3)"
   ]
  },
  {
   "cell_type": "markdown",
   "metadata": {},
   "source": [
    "### np.arange() / np.linspace(): Create arithmetic progression"
   ]
  },
  {
   "cell_type": "code",
   "execution_count": 6,
   "metadata": {},
   "outputs": [
    {
     "name": "stdout",
     "output_type": "stream",
     "text": [
      "[0 1 2 3 4]\n",
      "[5 6 7 8 9]\n",
      "[0.  0.1 0.2 0.3 0.4 0.5 0.6 0.7 0.8 0.9]\n",
      "[0.  0.2 0.4 0.6 0.8]\n"
     ]
    }
   ],
   "source": [
    "n = np.arange(5)\n",
    "print(n)\n",
    "n = np.arange(5, 10)\n",
    "print(n)\n",
    "n = np.arange(0.0, 1.0, 0.1)\n",
    "print(n)\n",
    "n = np.arange(0.0, 1.0, 0.2, dtype=np.float_)\n",
    "print(n)\n"
   ]
  },
  {
   "cell_type": "code",
   "execution_count": 7,
   "metadata": {},
   "outputs": [
    {
     "data": {
      "text/plain": [
       "array([0.  , 0.25, 0.5 , 0.75, 1.  , 1.25, 1.5 , 1.75, 2.  ])"
      ]
     },
     "execution_count": 7,
     "metadata": {},
     "output_type": "execute_result"
    }
   ],
   "source": [
    "np.linspace(0,2,9)"
   ]
  },
  {
   "cell_type": "markdown",
   "metadata": {},
   "source": [
    "## Methods on ndarray instances "
   ]
  },
  {
   "cell_type": "markdown",
   "metadata": {},
   "source": [
    "### A.astype(T)\n",
    "Creates a new array with the elements from A, but as type T"
   ]
  },
  {
   "cell_type": "code",
   "execution_count": 8,
   "metadata": {},
   "outputs": [
    {
     "name": "stdout",
     "output_type": "stream",
     "text": [
      "[5 6 7 8 9]\n",
      "[5. 6. 7. 8. 9.]\n"
     ]
    }
   ],
   "source": [
    "s1 = np.arange(5, 10)\n",
    "print(s1)\n",
    "\n",
    "s2 = s1.astype(np.float_)\n",
    "print(s2)"
   ]
  },
  {
   "cell_type": "markdown",
   "metadata": {},
   "source": [
    "### A.copy() : Deep copy\n",
    "Creates a new ndarray as an exact copy of A"
   ]
  },
  {
   "cell_type": "code",
   "execution_count": 9,
   "metadata": {},
   "outputs": [
    {
     "name": "stdout",
     "output_type": "stream",
     "text": [
      "[ 5.    6.   73.88  8.    9.  ]\n",
      "[5. 6. 7. 8. 9.]\n"
     ]
    }
   ],
   "source": [
    "s3 = s2.copy()\n",
    "s2[2] = 73.88\n",
    "print(s2)\n",
    "print(s3)"
   ]
  },
  {
   "cell_type": "markdown",
   "metadata": {},
   "source": [
    "### A.reshape(dims)\n",
    "Returns a NEW array that is a copy of the values A but having a shape given by dims."
   ]
  },
  {
   "cell_type": "code",
   "execution_count": 10,
   "metadata": {},
   "outputs": [
    {
     "name": "stdout",
     "output_type": "stream",
     "text": [
      "[ 1.  2.  3.  4.  5.  6.  7.  8.  9. 10.]\n",
      "[[ 1.  2.  3.  4.  5.]\n",
      " [ 6.  7.  8.  9. 10.]]\n"
     ]
    }
   ],
   "source": [
    "a1 = np.arange(1., 11., 1.0)\n",
    "print(a1)\n",
    "a2 = a1.reshape( (2,5) )\n",
    "print(a2)\n"
   ]
  },
  {
   "cell_type": "markdown",
   "metadata": {},
   "source": [
    "### A.resize(dims)\n",
    "Changes the shape of array A, but does so in place.\n"
   ]
  },
  {
   "cell_type": "code",
   "execution_count": 11,
   "metadata": {},
   "outputs": [
    {
     "name": "stdout",
     "output_type": "stream",
     "text": [
      "[ 1.  2.  3.  4.  5.  6.  7.  8.  9. 10.]\n",
      "[[ 1.  2.  3.  4.  5.]\n",
      " [ 6.  7.  8.  9. 10.]]\n"
     ]
    }
   ],
   "source": [
    "print(a1)\n",
    "a1.resize([2,5])\n",
    "print(a1)"
   ]
  },
  {
   "cell_type": "markdown",
   "metadata": {},
   "source": [
    "### A.mean()\n",
    "Returns the mean of the values in A."
   ]
  },
  {
   "cell_type": "code",
   "execution_count": 12,
   "metadata": {},
   "outputs": [
    {
     "name": "stdout",
     "output_type": "stream",
     "text": [
      "5.5\n"
     ]
    }
   ],
   "source": [
    "print(a1.mean())"
   ]
  },
  {
   "cell_type": "markdown",
   "metadata": {},
   "source": [
    "### A.var()\n",
    "Returns the variance of the values in A."
   ]
  },
  {
   "cell_type": "code",
   "execution_count": 13,
   "metadata": {},
   "outputs": [
    {
     "name": "stdout",
     "output_type": "stream",
     "text": [
      "8.25\n"
     ]
    }
   ],
   "source": [
    "print(a1.var())"
   ]
  },
  {
   "cell_type": "markdown",
   "metadata": {},
   "source": [
    "### Mathematical operators (+, -, *, /) \n",
    "\n",
    "For these operator to work, dimentions of the arrays must match.\n",
    "When one of the operand is a constant, it is broadcased and operation is performed on every element of an array. This is called broadcasting.\n"
   ]
  },
  {
   "cell_type": "code",
   "execution_count": 14,
   "metadata": {},
   "outputs": [
    {
     "name": "stdout",
     "output_type": "stream",
     "text": [
      "[0.6 0.7 0.8 0.9 1.  1.1 1.2 1.3 1.4 1.5]\n",
      "[40. 41. 42. 43. 44. 45. 46. 47. 48. 49.]\n",
      "\n",
      "[0.36 0.49 0.64 0.81 1.   1.21 1.44 1.69 1.96 2.25]\n",
      "[40.6 41.7 42.8 43.9 45.  46.1 47.2 48.3 49.4 50.5]\n",
      "[-39.4 -40.3 -41.2 -42.1 -43.  -43.9 -44.8 -45.7 -46.6 -47.5]\n",
      "[24.  28.7 33.6 38.7 44.  49.5 55.2 61.1 67.2 73.5]\n",
      "[24.  28.7 33.6 38.7 44.  49.5 55.2 61.1 67.2 73.5]\n",
      "\n",
      "[0.6 0.7 0.8 0.9 1.  1.1 1.2 1.3 1.4 1.5]\n",
      "[1.  1.1 1.2 1.3 1.4 1.5 1.6 1.7 1.8 1.9]\n",
      "[ 6.  7.  8.  9. 10. 11. 12. 13. 14. 15.]\n",
      "[106. 107. 108. 109. 110. 111. 112. 113. 114. 115.]\n"
     ]
    }
   ],
   "source": [
    "v1 = np.arange(0.6, 1.6, 0.1)\n",
    "print(v1)\n",
    "v2 = np.arange(40.0, 50.0, 1.0)\n",
    "print(v2, end='\\n\\n')\n",
    "\n",
    "print(v1**2)\n",
    "print(v1+v2)\n",
    "print(v1-v2)\n",
    "print(v1*v2)\n",
    "print(np.multiply(v1, v2), end='\\n\\n')\n",
    "\n",
    "print(v1)\n",
    "print(v1 + 0.4)\n",
    "print(v1 * 10)\n",
    "print(v1*10+100)\n"
   ]
  },
  {
   "cell_type": "markdown",
   "metadata": {},
   "source": [
    "### Universal functions\n",
    "\n",
    "Function Name | Description\n",
    ":--|:--\n",
    "np.abs(a)|Absolute value.\n",
    "np.sqrt(a)|Square root.\n",
    "np.exp(a)|Exponential, e^a.\n",
    "np.log(a)|Natural log.\n",
    "np.log10(a)|Common log (base 10).\n",
    "np.sin(a)|Sine."
   ]
  },
  {
   "cell_type": "code",
   "execution_count": 15,
   "metadata": {},
   "outputs": [
    {
     "name": "stdout",
     "output_type": "stream",
     "text": [
      "[4 3 2 1 0 1 2 3 4]\n",
      "[ 1.          2.71828183  7.3890561  20.08553692 54.59815003]\n",
      "[0.   0.25 0.5  0.75 1.   1.25 1.5  1.75 2.  ]\n",
      "[ 0.00000000e+00  7.07106781e-01  1.00000000e+00  7.07106781e-01\n",
      "  1.22464680e-16 -7.07106781e-01 -1.00000000e+00 -7.07106781e-01\n",
      " -2.44929360e-16]\n"
     ]
    }
   ],
   "source": [
    "print(np.abs(np.arange(-4, 5)))\n",
    "print(np.exp(np.arange(0, 5)))\n",
    "angles = np.arange(0.0, np.pi*9.0/4.0, np.pi/4.0)\n",
    "print(angles/np.pi)\n",
    "print(np.sin(angles))\n"
   ]
  },
  {
   "cell_type": "markdown",
   "metadata": {},
   "source": [
    "### Dot and cross products"
   ]
  },
  {
   "cell_type": "code",
   "execution_count": 16,
   "metadata": {},
   "outputs": [
    {
     "name": "stdout",
     "output_type": "stream",
     "text": [
      "[[ 1  2 -4]\n",
      " [ 3 -1  5]]\n",
      "[[ 6 -3]\n",
      " [ 1 -2]\n",
      " [ 2  4]]\n",
      "[[  0 -23]\n",
      " [ 27  13]]\n",
      "[12 -6 -3]\n"
     ]
    }
   ],
   "source": [
    "a1 = np.array([[1, 2, -4], [3, -1, 5]])\n",
    "a2 = np.array([[6, -3], [1, -2], [2, 4]])\n",
    "print(a1)\n",
    "print(a2)\n",
    "print(np.dot(a1, a2))\n",
    "\n",
    "x = (1, 2, 0)\n",
    "y = (4, 5, 6)\n",
    "print(np.cross(x, y))"
   ]
  },
  {
   "cell_type": "markdown",
   "metadata": {},
   "source": [
    "## Linear algebra functions\n"
   ]
  },
  {
   "cell_type": "markdown",
   "metadata": {},
   "source": [
    "### np.linalg.det(a)\n",
    "Returns the determinant of a 2-d array a\n"
   ]
  },
  {
   "cell_type": "code",
   "execution_count": 17,
   "metadata": {},
   "outputs": [
    {
     "name": "stdout",
     "output_type": "stream",
     "text": [
      "[[ 2  3]\n",
      " [-1 -2]]\n",
      "-1.0\n"
     ]
    }
   ],
   "source": [
    "m = np.array(((2,3), (-1, -2)))\n",
    "print(m)\n",
    "print(np.linalg.det(m))"
   ]
  },
  {
   "cell_type": "markdown",
   "metadata": {},
   "source": [
    "### np.linalg.inv(a)\n",
    "Returns the matrix inverse of a non-singular 2-d array a.\n"
   ]
  },
  {
   "cell_type": "code",
   "execution_count": 18,
   "metadata": {},
   "outputs": [
    {
     "name": "stdout",
     "output_type": "stream",
     "text": [
      "[[-2.23140496  1.32231405]\n",
      " [ 1.7768595  -0.8677686 ]]\n"
     ]
    }
   ],
   "source": [
    "good = np.array(((2.1, 3.2), (4.3, 5.4)))\n",
    "print(np.linalg.inv(good))"
   ]
  },
  {
   "cell_type": "markdown",
   "metadata": {},
   "source": [
    "### np.linalg.norm(a)\n",
    "Returns the Frobenius norm of array a.\n"
   ]
  },
  {
   "cell_type": "code",
   "execution_count": 19,
   "metadata": {},
   "outputs": [
    {
     "name": "stdout",
     "output_type": "stream",
     "text": [
      "[[2.1 3.2]\n",
      " [4.3 5.4]]\n",
      "7.893034904268447\n"
     ]
    }
   ],
   "source": [
    "print(good)\n",
    "print(np.linalg.norm(good))"
   ]
  },
  {
   "cell_type": "markdown",
   "metadata": {},
   "source": [
    "### np.linalg.solve(A, b)\n",
    "Solves systems of simultaneous linear equations. Given an N×N array of coefficients A, and a lengthN vector of constants b, returns a length-N vector containing the solved values of the variables.\n",
    "For example\n",
    "\n",
    "2x + y = 19\n",
    "\n",
    "x - 2y = 2\n"
   ]
  },
  {
   "cell_type": "code",
   "execution_count": 20,
   "metadata": {},
   "outputs": [
    {
     "name": "stdout",
     "output_type": "stream",
     "text": [
      "[[ 2  1]\n",
      " [ 1 -2]]\n",
      "[19  2]\n",
      "[8. 3.]\n"
     ]
    }
   ],
   "source": [
    "coeffs = np.array([[2,1], [1,-2]])\n",
    "print(coeffs)\n",
    "consts = np.array((19, 2))\n",
    "print(consts)\n",
    "print(np.linalg.solve(coeffs, consts))"
   ]
  },
  {
   "cell_type": "code",
   "execution_count": 21,
   "metadata": {},
   "outputs": [
    {
     "data": {
      "text/plain": [
       "array([0.  , 0.25, 0.5 , 0.75, 1.  , 1.25, 1.5 , 1.75, 2.  ])"
      ]
     },
     "execution_count": 21,
     "metadata": {},
     "output_type": "execute_result"
    }
   ],
   "source": [
    "np.linspace(0,2,9)"
   ]
  },
  {
   "cell_type": "code",
   "execution_count": null,
   "metadata": {},
   "outputs": [],
   "source": []
  }
 ],
 "metadata": {
  "kernelspec": {
   "display_name": "Python 3",
   "language": "python",
   "name": "python3"
  },
  "language_info": {
   "codemirror_mode": {
    "name": "ipython",
    "version": 3
   },
   "file_extension": ".py",
   "mimetype": "text/x-python",
   "name": "python",
   "nbconvert_exporter": "python",
   "pygments_lexer": "ipython3",
   "version": "3.6.8"
  }
 },
 "nbformat": 4,
 "nbformat_minor": 2
}
