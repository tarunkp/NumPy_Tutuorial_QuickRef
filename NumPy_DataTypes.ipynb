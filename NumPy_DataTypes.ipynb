{
 "cells": [
  {
   "cell_type": "markdown",
   "metadata": {},
   "source": [
    "## NumPy Data Types\n",
    "\n",
    "Python defines only one type of a particular data class (there is only one integer type, one floating-point type, etc.).\n",
    "\n",
    "NumPy has a much richer set of data types than standard Python. The type object for a NumPy type is called a dtype. Currently, there are 24 new fundamental Python types to describe different types of scalars. These type descriptors are mostly based on the types available in the C language that CPython is written in, with several additional types compatible with Python’s types.\n",
    "\n",
    "Each type has a type name. This table shows the names and describes their functions. Seven of these\n",
    "types are functionally identical to standard Python types, so their names have an underscore (\\_) appended\n",
    "to differentiate them. "
   ]
  },
  {
   "cell_type": "markdown",
   "metadata": {},
   "source": [
    "## NumPy Data Types\n",
    "\n",
    "![NumPy Data Types](images/dtype-hierarchy.png \"NumPy Data Types\")\n"
   ]
  },
  {
   "cell_type": "code",
   "execution_count": 1,
   "metadata": {},
   "outputs": [],
   "source": [
    "import numpy as np\n"
   ]
  },
  {
   "cell_type": "code",
   "execution_count": 2,
   "metadata": {},
   "outputs": [
    {
     "name": "stdout",
     "output_type": "stream",
     "text": [
      "z.dtype : float64\n",
      "z[0] is instance of np.generic : True\n",
      "z[0] is instance of np.number : True\n"
     ]
    }
   ],
   "source": [
    "z = np.zeros([3])\n",
    "print(\"z.dtype :\", z.dtype)\n",
    "print(\"z[0] is instance of np.generic :\", isinstance(z[0], np.generic))\n",
    "print(\"z[0] is instance of np.number :\", isinstance(z[0], np.number))"
   ]
  },
  {
   "cell_type": "markdown",
   "metadata": {},
   "source": [
    "## List of NumPy Data Types\n",
    "\n",
    "Booleans:\n",
    "\n",
    "Type|Remarks|Character code\n",
    ":-- | :- | --:\n",
    "bool_|compatible: Python bool|'?'\n",
    "bool8|8 bits| \n",
    "\n",
    "Integers:\n",
    "\n",
    "Type|Remarks|Character code\n",
    ":-- | :- | --:\n",
    "byte|compatible: C char|'b'\n",
    "short|compatible: C short|'h'\n",
    "intc|compatible: C int|'i'\n",
    "int_|compatible: Python int|'l'\n",
    "longlong|compatible: C long long|'q'\n",
    "intp|large enough to fit a pointer|'p'\n",
    "int8|8 bits| \n",
    "int16|16 bits| \n",
    "int32|32 bits| \n",
    "int64|64 bits| \n",
    "\n",
    "Unsigned integers:\n",
    "\n",
    "Type|Remarks|Character code\n",
    ":-- | :- | --:\n",
    "ubyte|compatible: C unsigned char|'B'\n",
    "ushort|compatible: C unsigned short|'H'\n",
    "uintc|compatible: C unsigned int|'I'\n",
    "uint|compatible: Python int|'L'\n",
    "ulonglong|compatible: C long long|'Q'\n",
    "uintp|large enough to fit a pointer|'P'\n",
    "uint8|8 bits| \n",
    "uint16|16 bits| \n",
    "uint32|32 bits| \n",
    "uint64|64 bits| \n",
    "\n",
    "Floating-point numbers:\n",
    "\n",
    "Type|Remarks|Character code\n",
    ":-- | :- | --:\n",
    "half|. |'e'\n",
    "single|compatible: C float|'f'\n",
    "double|compatible: C double| \n",
    "float_|compatible: Python float|'d'\n",
    "longfloat|compatible: C long float|'g'\n",
    "float16|16 bits| \n",
    "float32|32 bits| \n",
    "float64|64 bits| \n",
    "float96|96 bits, platform?| \n",
    "float128|128 bits, platform?| \n",
    "\n",
    "Complex floating-point numbers:\n",
    "\n",
    "Type|Remarks|Character code\n",
    ":-- | :- | --:\n",
    "csingle|. |'F'\n",
    "complex_|compatible: Python complex|'D'\n",
    "clongfloat|. |'G'\n",
    "complex64|two 32-bit floats| \n",
    "complex128|two 64-bit floats| \n",
    "complex192|two 96-bit floats, platform?| \n",
    "complex256|two 128-bit floats, platform?| \n",
    "\n",
    "Any Python object:\n",
    "\n",
    "Type|Remarks|Character code\n",
    ":-- | :- | --:\n",
    "object_|any Python object|'O'\n"
   ]
  },
  {
   "cell_type": "markdown",
   "metadata": {},
   "source": [
    "## Flexible data types\n",
    "\n",
    "The following data types are flexible. They have no predefined size: the data they describe can be of different length in different arrays. (In the character codes # is an integer denoting how many elements the data type consists of.)\n",
    "\n",
    "Type|Remarks|Character code\n",
    ":-- | :- | --:\n",
    "bytes_ | compatible: Python bytes | 'S#'\n",
    "unicode_ | compatible: Python unicode/str | 'U#'\n",
    "void |. | 'V#'"
   ]
  },
  {
   "cell_type": "code",
   "execution_count": null,
   "metadata": {},
   "outputs": [],
   "source": []
  }
 ],
 "metadata": {
  "kernelspec": {
   "display_name": "Python 3",
   "language": "python",
   "name": "python3"
  },
  "language_info": {
   "codemirror_mode": {
    "name": "ipython",
    "version": 3
   },
   "file_extension": ".py",
   "mimetype": "text/x-python",
   "name": "python",
   "nbconvert_exporter": "python",
   "pygments_lexer": "ipython3",
   "version": "3.6.8"
  }
 },
 "nbformat": 4,
 "nbformat_minor": 2
}
